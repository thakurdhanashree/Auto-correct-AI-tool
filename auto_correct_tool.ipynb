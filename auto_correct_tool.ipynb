{
 "cells": [
  {
   "cell_type": "code",
   "execution_count": 5,
   "id": "d832f2ec",
   "metadata": {},
   "outputs": [
    {
     "name": "stdout",
     "output_type": "stream",
     "text": [
      "Enter a word: grave\n",
      " The above word is Incorrect Corrected word is: grape\n"
     ]
    }
   ],
   "source": [
    "from difflib import get_close_matches\n",
    "\n",
    "def correct_word(word):\n",
    "    \n",
    "    word_list = ['apple', 'banana', 'orange', 'grape', 'pear']\n",
    "    \n",
    "   \n",
    "    if word in word_list:\n",
    "        return word \n",
    "    \n",
    "   \n",
    "    closest_matches = get_close_matches(word, word_list)\n",
    "    \n",
    "    if closest_matches:\n",
    "        return closest_matches[0]  \n",
    "    \n",
    "    return \"No suggestions found\" \n",
    "\n",
    "input_word = input(\"Enter a word: \")\n",
    "corrected_word = correct_word(input_word)\n",
    "print(\" The above word is Incorrect Corrected word is:\", corrected_word)\n"
   ]
  }
 ],
 "metadata": {
  "kernelspec": {
   "display_name": "Python 3 (ipykernel)",
   "language": "python",
   "name": "python3"
  },
  "language_info": {
   "codemirror_mode": {
    "name": "ipython",
    "version": 3
   },
   "file_extension": ".py",
   "mimetype": "text/x-python",
   "name": "python",
   "nbconvert_exporter": "python",
   "pygments_lexer": "ipython3",
   "version": "3.10.9"
  }
 },
 "nbformat": 4,
 "nbformat_minor": 5
}
